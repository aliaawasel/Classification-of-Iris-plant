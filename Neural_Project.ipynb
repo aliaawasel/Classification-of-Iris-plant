{
 "cells": [
  {
   "cell_type": "code",
   "execution_count": 45,
   "metadata": {},
   "outputs": [
    {
     "name": "stdout",
     "output_type": "stream",
     "text": [
      "[-1 -1 -1 -1 -1 -1 -1 -1 -1 -1 -1 -1 -1 -1 -1 -1 -1 -1 -1 -1 -1 -1 -1 -1\n",
      " -1 -1 -1 -1 -1 -1 -1 -1 -1 -1 -1 -1 -1 -1 -1 -1 -1 -1 -1 -1 -1 -1 -1 -1\n",
      " -1 -1  1  1  1  1  1  1  1  1  1  1  1  1  1  1  1  1  1  1  1  1  1  1\n",
      "  1  1  1  1  1  1  1  1  1  1  1  1  1  1  1  1  1  1  1  1  1  1  1  1\n",
      "  1  1  1  1]\n"
     ]
    }
   ],
   "source": [
    "import numpy as np\n",
    "import pandas as pd\n",
    "import matplotlib.pyplot as plt\n",
    "data = pd.read_csv('https://archive.ics.uci.edu/ml/machine-learning-databases/iris/iris.data', header=None)\n",
    "#inputs \n",
    "X = data.iloc[0:100, [0,1,2,3]].values\n",
    "#print(X)\n",
    "#outputs\n",
    "y = data.iloc[0:100, 4].values\n",
    "#print(y)\n",
    "y = np.where(y == 'Iris-setosa', -1, 1)\n",
    "print(y)"
   ]
  },
  {
   "cell_type": "code",
   "execution_count": 46,
   "metadata": {},
   "outputs": [
    {
     "data": {
      "image/png": "[encoded data removed]",
      "text/plain": [
       "<Figure size 432x288 with 1 Axes>"
      ]
     },
     "metadata": {
      "needs_background": "light"
     },
     "output_type": "display_data"
    }
   ],
   "source": [
    "plt.scatter(X[:50, 0], X[:50, 2], color='red', marker='o', label='setosa')\n",
    "plt.scatter(X[50:, 0], X[50:, 2], color='blue', marker='x', label='versicolor')\n",
    "plt.xlabel('petal length')\n",
    "plt.ylabel('sepal length')\n",
    "plt.legend(loc='upper left')\n",
    "plt.show()"
   ]
  },
  {
   "cell_type": "code",
   "execution_count": 49,
   "metadata": {},
   "outputs": [
    {
     "name": "stdout",
     "output_type": "stream",
     "text": [
      "[0. 0. 0. 0. 0.]\n",
      "Final weights: [-0.02  -0.026 -0.082  0.104  0.044]\n",
      "[2, 2, 1, 0, 0, 0, 0, 0, 0, 0]\n"
     ]
    }
   ],
   "source": [
    "class Perceptron():\n",
    "   def __init__(self, rate = 0.01, n_iter = 10):\n",
    "      self.rate = rate\n",
    "      self.n_iter = n_iter\n",
    "   def fit(self, X, y):\n",
    "      # weights\n",
    "      self.weight = np.zeros(1 + X.shape[1])\n",
    "      print(self.weight)             \n",
    "      # Number of misclassifications\n",
    "      self.errors = []  \n",
    "      for i in range(self.n_iter):\n",
    "         err = 0\n",
    "         for xi, target in zip(X, y):\n",
    "            delta_w = self.rate *(target - self.predict(xi))\n",
    "            self.weight[1:] += (delta_w*xi) \n",
    "            self.weight[0] += delta_w \n",
    "            err += int(delta_w != 0.0)\n",
    "         self.errors.append(err)\n",
    "      print(\"Final weights:\",self.weight)\n",
    "      print(self.errors)\n",
    "   def net_output(self, X):\n",
    "      return np.dot(X, self.weight[1:]) + self.weight[0]\n",
    "   def predict(self, X):\n",
    "      return np.where(self.net_output(X) >= 0.0, 1, -1)\n",
    "   \n",
    "p = Perceptron()\n",
    "p.fit(X, y)"
   ]
  },
  {
   "cell_type": "code",
   "execution_count": 50,
   "metadata": {},
   "outputs": [
    {
     "data": {
      "image/png": "[encoded data removed]",
      "text/plain": [
       "<Figure size 432x288 with 1 Axes>"
      ]
     },
     "metadata": {
      "needs_background": "light"
     },
     "output_type": "display_data"
    }
   ],
   "source": [
    "plt.plot(range(1, len(p.errors) + 1), p.errors, marker='o')\n",
    "plt.xlabel('Iterations')\n",
    "plt.ylabel('Number of misclassifications')\n",
    "plt.show()"
   ]
  },
  {
   "cell_type": "code",
   "execution_count": null,
   "metadata": {},
   "outputs": [],
   "source": []
  }
 ],
 "metadata": {
  "kernelspec": {
   "display_name": "Python 3",
   "language": "python",
   "name": "python3"
  },
  "language_info": {
   "codemirror_mode": {
    "name": "ipython",
    "version": 3
   },
   "file_extension": ".py",
   "mimetype": "text/x-python",
   "name": "python",
   "nbconvert_exporter": "python",
   "pygments_lexer": "ipython3",
   "version": "3.8.3"
  }
 },
 "nbformat": 4,
 "nbformat_minor": 4
}
